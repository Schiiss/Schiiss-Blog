{
 "cells": [
  {
   "cell_type": "code",
   "execution_count": 1,
   "metadata": {},
   "outputs": [],
   "source": [
    "from dotenv import load_dotenv\n",
    "import os\n",
    "load_dotenv()\n",
    "import json\n",
    "import requests"
   ]
  },
  {
   "cell_type": "code",
   "execution_count": 2,
   "metadata": {},
   "outputs": [],
   "source": [
    "def register_plate(license_plate: str, parker_name: str, parker_number: str) -> str:\n",
    "    \"\"\"Register a car with parking service\"\"\"\n",
    "    config_id = int(os.getenv(\"CONFIG_ID\", \"\").strip())\n",
    "    location_id = int(os.getenv(\"LOCATION_ID\", \"\").strip())\n",
    "    tenant_id = int(os.getenv(\"TENANT_ID\", \"\").strip())\n",
    "    state = os.getenv(\"STATE\", \"\").strip()\n",
    "    parking_code = os.getenv(\"PARKING_CODE\", \"\").strip()\n",
    "    parker_name_id = int(os.getenv(\"PARKER_NAME_ID\", \"\").strip())\n",
    "    parker_contact_number_id = int(os.getenv(\"PARKER_CONTACT_NUMBER_ID\", \"\").strip())\n",
    "    contact_email = os.getenv(\"CONTACT_EMAIL\", \"\").strip()\n",
    "    url = \"https://ogr-api.offstreet.io/v2/portal/registration\"\n",
    "    payload = json.dumps({\n",
    "        \"configId\": config_id,\n",
    "        \"locationId\": location_id,\n",
    "        \"tenantId\": tenant_id,\n",
    "        \"vehicle\": {\n",
    "            \"plate\": license_plate,\n",
    "            \"state\": state\n",
    "        },\n",
    "        \"code\": parking_code,\n",
    "        \"timeRaw\": {\n",
    "            \"start\": \"2024-03-11T22:47:00.000Z\",\n",
    "            \"end\": \"2024-03-12T22:47:00.000Z\",\n",
    "            \"durationInMinutes\": 1440\n",
    "        },\n",
    "        \"additionalFieldValues\": [\n",
    "            {\n",
    "                \"id\": parker_name_id,\n",
    "                \"label\": \"Parker Name\",\n",
    "                \"value\": parker_name,\n",
    "                \"additionalField\": {\n",
    "                    \"id\": parker_name_id\n",
    "                }\n",
    "            },\n",
    "            {\n",
    "                \"id\": parker_contact_number_id,\n",
    "                \"label\": \"Contact Number\",\n",
    "                \"value\": parker_number,\n",
    "                \"additionalField\": {\n",
    "                    \"id\": parker_contact_number_id\n",
    "                }\n",
    "            }\n",
    "        ],\n",
    "        \"ignoreExistingRegistration\": True\n",
    "    })\n",
    "    headers = {\n",
    "        'Content-Type': 'application/json'\n",
    "    }\n",
    "    response = requests.post(url, headers=headers, data=payload)\n",
    "    response_dict = json.loads(response.text)\n",
    "    confirmation_number = response_dict.get('confirmation')\n",
    "    if confirmation_number:\n",
    "        conf_url = f\"https://ogr-api.offstreet.io/v2/portal/registration/{confirmation_number}/sendParkingConfirmationEmail\"\n",
    "        payload2 = json.dumps({\"recipient\": contact_email})\n",
    "        requests.post(conf_url, headers=headers, data=payload2)\n",
    "        return \"Plate Registered\"\n",
    "    else:\n",
    "        print(f\"Error: {response_dict}\")\n",
    "        return \"Registration failed\""
   ]
  },
  {
   "cell_type": "code",
   "execution_count": 3,
   "metadata": {},
   "outputs": [
    {
     "data": {
      "text/plain": [
       "'Plate Registered'"
      ]
     },
     "execution_count": 3,
     "metadata": {},
     "output_type": "execute_result"
    }
   ],
   "source": [
    "register_plate(\"LMN456\", \"Alex Johnson\", \"555-3456\")"
   ]
  }
 ],
 "metadata": {
  "kernelspec": {
   "display_name": ".venv",
   "language": "python",
   "name": "python3"
  },
  "language_info": {
   "codemirror_mode": {
    "name": "ipython",
    "version": 3
   },
   "file_extension": ".py",
   "mimetype": "text/x-python",
   "name": "python",
   "nbconvert_exporter": "python",
   "pygments_lexer": "ipython3",
   "version": "3.11.9"
  }
 },
 "nbformat": 4,
 "nbformat_minor": 2
}
