{
 "cells": [
  {
   "cell_type": "markdown",
   "metadata": {},
   "source": [
    "## Import Libraries"
   ]
  },
  {
   "cell_type": "code",
   "execution_count": null,
   "metadata": {},
   "outputs": [],
   "source": [
    "import os\n",
    "from dotenv import load_dotenv\n",
    "from langchain_community.document_loaders import JSONLoader\n",
    "from langchain_openai import AzureOpenAIEmbeddings, AzureChatOpenAI\n",
    "from langchain_chroma import Chroma\n",
    "import time\n",
    "import requests\n",
    "import json\n",
    "load_dotenv()"
   ]
  },
  {
   "cell_type": "markdown",
   "metadata": {},
   "source": [
    "## Environment Variables"
   ]
  },
  {
   "cell_type": "code",
   "execution_count": 35,
   "metadata": {},
   "outputs": [],
   "source": [
    "AZURE_AI_ENDPOINT = os.environ.get(\"AZURE_AI_ENDPOINT\")\n",
    "AZURE_AI_KEY = os.environ.get(\"AZURE_AI_KEY\")\n",
    "API_VERSION = \"2024-12-01-preview\"\n",
    "VIDEO_ANALYZER_NAME = \"video-analyzer\"\n",
    "VIDEO_SAS_URL = os.environ.get(\"VIDEO_SAS_URL\")\n",
    "PDF_ANALYZER_NAME = \"pdf-analyzer\"\n",
    "PDF_SAS_URL = os.environ.get(\"PDF_SAS_URL\")"
   ]
  },
  {
   "cell_type": "markdown",
   "metadata": {},
   "source": [
    "## Helper Functions"
   ]
  },
  {
   "cell_type": "code",
   "execution_count": 36,
   "metadata": {},
   "outputs": [],
   "source": [
    "def delete_analyzer(analyzer_name, endpoint, api_key):\n",
    "    \"\"\"\n",
    "    Deletes an analyzer from the Azure AI Content Understanding service.\n",
    "\n",
    "    Parameters:\n",
    "        analyzer_name (str): The name of the analyzer to delete.\n",
    "        endpoint (str): The Azure AI endpoint.\n",
    "        api_key (str): The API key for the Azure AI service.\n",
    "\n",
    "    Returns:\n",
    "        str: The response text from the API.\n",
    "    \"\"\"\n",
    "    url = f\"{endpoint}/contentunderstanding/analyzers/{analyzer_name}?api-version=2024-12-01-preview\"\n",
    "    headers = {\n",
    "        \"Ocp-Apim-Subscription-Key\": api_key,\n",
    "        \"Content-Type\": \"application/json\"\n",
    "    }\n",
    "\n",
    "    response = requests.delete(url, headers=headers)\n",
    "    return response.text\n",
    "\n",
    "\n",
    "def create_or_update_video_analyzer(analyzer_name, description, scenario, field_schema, endpoint, api_key, api_version):\n",
    "    \"\"\"\n",
    "    Creates or updates an analyzer in the Azure AI Content Understanding service.\n",
    "\n",
    "    Parameters:\n",
    "        analyzer_name (str): The name of the analyzer to create or update.\n",
    "        description (str): A description of the analyzer.\n",
    "        scenario (str): The scenario associated with the analyzer (e.g., 'videoShot').\n",
    "        field_schema (dict): The schema of the fields for the analyzer.\n",
    "        endpoint (str): The Azure AI endpoint.\n",
    "        api_key (str): The API key for the Azure AI service.\n",
    "        api_version (str): The API version to use.\n",
    "\n",
    "    Returns:\n",
    "        dict: A dictionary with the response status code and text.\n",
    "    \"\"\"\n",
    "    url = f\"{endpoint}/contentunderstanding/analyzers/{analyzer_name}?api-version={api_version}\"\n",
    "    headers = {\n",
    "        \"Ocp-Apim-Subscription-Key\": api_key,\n",
    "        \"Content-Type\": \"application/json\"\n",
    "    }\n",
    "\n",
    "    # Construct the request body\n",
    "    request_body = {\n",
    "        \"description\": description,\n",
    "        \"scenario\": scenario,\n",
    "        \"fieldSchema\": field_schema\n",
    "    }\n",
    "\n",
    "    # Send the PUT request\n",
    "    response = requests.put(url, headers=headers, data=json.dumps(request_body))\n",
    "\n",
    "    # Return the response details\n",
    "    return {\n",
    "        \"status_code\": response.status_code,\n",
    "        \"response_text\": response.text\n",
    "    }\n",
    "\n",
    "def create_or_update_document_analyzer(analyzer_name, description, scenario, field_schema, config, endpoint, api_key, api_version):\n",
    "    \"\"\"\n",
    "    Creates or updates an analyzer in the Azure AI Content Understanding service.\n",
    "\n",
    "    Parameters:\n",
    "        analyzer_name (str): The name of the analyzer.\n",
    "        description (str): A description of the analyzer.\n",
    "        scenario (str): The scenario type for the analyzer.\n",
    "        field_schema (dict): The field schema definition.\n",
    "        config (dict): Configuration settings for the analyzer.\n",
    "        endpoint (str): The Azure AI endpoint.\n",
    "        api_key (str): The API key for the Azure AI service.\n",
    "        api_version (str): The API version to use.\n",
    "\n",
    "    Returns:\n",
    "        dict: A dictionary with the response status code and text.\n",
    "    \"\"\"\n",
    "    url = f\"{endpoint}/contentunderstanding/analyzers/{analyzer_name}?api-version={api_version}\"\n",
    "    headers = {\n",
    "        \"Ocp-Apim-Subscription-Key\": api_key,\n",
    "        \"Content-Type\": \"application/json\"\n",
    "    }\n",
    "\n",
    "    request_body = {\n",
    "        \"description\": description,\n",
    "        \"scenario\": scenario,\n",
    "        \"config\": config,\n",
    "        \"fieldSchema\": field_schema\n",
    "    }\n",
    "\n",
    "    # Send the PUT request\n",
    "    response = requests.put(url, headers=headers, data=json.dumps(request_body))\n",
    "\n",
    "    return {\n",
    "        \"status_code\": response.status_code,\n",
    "        \"response_text\": response.text\n",
    "    }\n",
    "  \n",
    "\n",
    "def list_analyzers(endpoint, api_key, api_version):\n",
    "    \"\"\"\n",
    "    Lists all analyzers in the Azure AI Content Understanding service.\n",
    "\n",
    "    Parameters:\n",
    "        endpoint (str): The Azure AI endpoint.\n",
    "        api_key (str): The API key for the Azure AI service.\n",
    "        api_version (str): The API version to use.\n",
    "\n",
    "    Returns:\n",
    "        dict: A dictionary with the response status code and text.\n",
    "    \"\"\"\n",
    "    url = f\"{endpoint}/contentunderstanding/analyzers?api-version={api_version}\"\n",
    "    headers = {\n",
    "        \"Ocp-Apim-Subscription-Key\": api_key,\n",
    "        \"Content-Type\": \"application/json\"\n",
    "    }\n",
    "\n",
    "    # Send the GET request\n",
    "    response = requests.get(url, headers=headers)\n",
    "\n",
    "    # Return the response details\n",
    "    return {\n",
    "        \"status_code\": response.status_code,\n",
    "        \"response_text\": response.text\n",
    "    }\n",
    "\n",
    "def analyze_content(analyzer_name, content_url, endpoint, api_key, api_version):\n",
    "    \"\"\"\n",
    "    Analyzes content using a specified analyzer in the Azure AI Content Understanding service.\n",
    "\n",
    "    Parameters:\n",
    "        analyzer_name (str): The name of the analyzer to use.\n",
    "        content_url (str): The URL of the content to analyze.\n",
    "        endpoint (str): The Azure AI endpoint.\n",
    "        api_key (str): The API key for the Azure AI service.\n",
    "        api_version (str): The API version to use.\n",
    "\n",
    "    Returns:\n",
    "        dict: A dictionary with the response status code, headers, and text.\n",
    "    \"\"\"\n",
    "    url = f\"{endpoint}/contentunderstanding/analyzers/{analyzer_name}:analyze?api-version={api_version}\"\n",
    "    headers = {\n",
    "        \"Ocp-Apim-Subscription-Key\": api_key,\n",
    "        \"Content-Type\": \"application/json\"\n",
    "    }\n",
    "\n",
    "    request_body = {\n",
    "        \"url\": content_url\n",
    "    }\n",
    "\n",
    "    # Send the POST request\n",
    "    response = requests.post(url, headers=headers, data=json.dumps(request_body))\n",
    "\n",
    "    # Return the response details\n",
    "    return {\n",
    "        \"status_code\": response.status_code,\n",
    "        \"headers\": response.headers,\n",
    "        \"response_text\": response.text\n",
    "    }\n",
    "\n",
    "def get_result_details(operation_location, api_key, poll_interval=5, timeout=300):\n",
    "    \"\"\"\n",
    "    Retrieves the result details from the Azure AI Content Understanding service,\n",
    "    polling until the operation is complete or a timeout occurs.\n",
    "\n",
    "    Parameters:\n",
    "        operation_location (str): The URL for the operation location.\n",
    "        api_key (str): The API key for the Azure AI service.\n",
    "        poll_interval (int): The time in seconds between polls (default is 5 seconds).\n",
    "        timeout (int): The maximum time in seconds to wait for the operation to complete (default is 300 seconds).\n",
    "\n",
    "    Returns:\n",
    "        dict: The JSON response from the operation or an error message if the operation fails or times out.\n",
    "    \"\"\"\n",
    "    headers = {\n",
    "        \"Ocp-Apim-Subscription-Key\": api_key\n",
    "    }\n",
    "\n",
    "    start_time = time.time()\n",
    "\n",
    "    while True:\n",
    "        print(\"Running analysis...\")  # Indicate that the analysis is in progress\n",
    "\n",
    "        # Send the GET request to check the operation status\n",
    "        response = requests.get(operation_location, headers=headers)\n",
    "\n",
    "        if response.status_code != 200:\n",
    "            return {\n",
    "                \"status_code\": response.status_code,\n",
    "                \"error\": f\"Failed to retrieve result details. Response: {response.text}\"\n",
    "            }\n",
    "\n",
    "        # Parse the response JSON\n",
    "        result = response.json()\n",
    "        status = result.get(\"status\")\n",
    "\n",
    "        if status == \"Succeeded\":\n",
    "            print(\"Analysis succeeded.\")\n",
    "            return {\n",
    "                \"status_code\": response.status_code,\n",
    "                \"json_response\": result,\n",
    "                \"response_text\": response.text\n",
    "            }\n",
    "        elif status == \"Failed\":\n",
    "            print(\"Analysis failed.\")\n",
    "            return {\n",
    "                \"status_code\": response.status_code,\n",
    "                \"json_response\": result,\n",
    "                \"response_text\": response.text\n",
    "            }\n",
    "        elif status == \"Running\":\n",
    "            # Continue polling\n",
    "            if time.time() - start_time > timeout:\n",
    "                print(\"Operation timed out.\")\n",
    "                return {\n",
    "                    \"status_code\": 408,\n",
    "                    \"error\": \"Operation timed out after waiting for completion.\"\n",
    "                }\n",
    "\n",
    "            time.sleep(poll_interval)\n",
    "        else:\n",
    "            # Handle unexpected statuses\n",
    "            print(f\"Unexpected status: {status}\")\n",
    "            return {\n",
    "                \"status_code\": response.status_code,\n",
    "                \"json_response\": result,\n",
    "                \"response_text\": response.text\n",
    "            }\n"
   ]
  },
  {
   "cell_type": "markdown",
   "metadata": {},
   "source": [
    "## Delete Existing Analyzer If Exists"
   ]
  },
  {
   "cell_type": "code",
   "execution_count": null,
   "metadata": {},
   "outputs": [],
   "source": [
    "print(delete_analyzer(VIDEO_ANALYZER_NAME, AZURE_AI_ENDPOINT, AZURE_AI_KEY))\n",
    "print(delete_analyzer(PDF_ANALYZER_NAME, AZURE_AI_ENDPOINT, AZURE_AI_KEY))"
   ]
  },
  {
   "cell_type": "markdown",
   "metadata": {},
   "source": [
    "## Create Video Analyzer"
   ]
  },
  {
   "cell_type": "code",
   "execution_count": 38,
   "metadata": {},
   "outputs": [],
   "source": [
    "VIDEO_ANALYZER_FIELD_SCHEMA = {\n",
    "    \"fields\": {\n",
    "        \"Description\": {\n",
    "            \"type\": \"string\",\n",
    "            \"description\": \"Detailed summary of the video segment, focusing on scene characteristics, lighting, and color palette.\"\n",
    "        },\n",
    "        \"Sentiment\": {\n",
    "            \"type\": \"string\",\n",
    "            \"method\": \"classify\",\n",
    "            \"enum\": [\"Positive\", \"Neutral\", \"Negative\"]\n",
    "        }\n",
    "    }\n",
    "}\n",
    "\n",
    "result = create_or_update_video_analyzer(\n",
    "    VIDEO_ANALYZER_NAME,\n",
    "    \"video analyzer\",\n",
    "    \"videoShot\",\n",
    "    VIDEO_ANALYZER_FIELD_SCHEMA,\n",
    "    AZURE_AI_ENDPOINT,\n",
    "    AZURE_AI_KEY,\n",
    "    API_VERSION\n",
    ")"
   ]
  },
  {
   "cell_type": "markdown",
   "metadata": {},
   "source": [
    "## Get Video Analyzer"
   ]
  },
  {
   "cell_type": "code",
   "execution_count": null,
   "metadata": {},
   "outputs": [],
   "source": [
    "result = list_analyzers(AZURE_AI_ENDPOINT, AZURE_AI_KEY, API_VERSION)\n",
    "print(result)"
   ]
  },
  {
   "cell_type": "markdown",
   "metadata": {},
   "source": [
    "## Analyze Video"
   ]
  },
  {
   "cell_type": "code",
   "execution_count": null,
   "metadata": {},
   "outputs": [],
   "source": [
    "result = analyze_content(\n",
    "    VIDEO_ANALYZER_NAME,\n",
    "    VIDEO_SAS_URL,\n",
    "    AZURE_AI_ENDPOINT,\n",
    "    AZURE_AI_KEY,\n",
    "    API_VERSION\n",
    ")\n",
    "\n",
    "print(result)"
   ]
  },
  {
   "cell_type": "code",
   "execution_count": null,
   "metadata": {},
   "outputs": [],
   "source": [
    "operation_location = result[\"headers\"].get(\"Operation-Location\")\n",
    "print(operation_location)"
   ]
  },
  {
   "cell_type": "markdown",
   "metadata": {},
   "source": [
    "## Get Results"
   ]
  },
  {
   "cell_type": "code",
   "execution_count": null,
   "metadata": {},
   "outputs": [],
   "source": [
    "result = get_result_details(operation_location, AZURE_AI_KEY)\n",
    "print(result)"
   ]
  },
  {
   "cell_type": "markdown",
   "metadata": {},
   "source": [
    "## Write Data to JSON File"
   ]
  },
  {
   "cell_type": "code",
   "execution_count": null,
   "metadata": {},
   "outputs": [],
   "source": [
    "filename = 'video_data.json'\n",
    "\n",
    "with open(filename, 'w') as json_file:\n",
    "    json.dump(result, json_file, indent=4)\n",
    "\n",
    "print(f\"Data has been written to {filename}\")"
   ]
  },
  {
   "cell_type": "markdown",
   "metadata": {},
   "source": [
    "## Create PDF Analyzer"
   ]
  },
  {
   "cell_type": "code",
   "execution_count": null,
   "metadata": {},
   "outputs": [],
   "source": [
    "description = \"pdf analyzer\"\n",
    "scenario = \"document\"\n",
    "config = {\"returnDetails\": False}\n",
    "field_schema = {\n",
    "    \"fields\": {\n",
    "        \"Overview\": {\n",
    "            \"type\": \"string\",\n",
    "            \"method\": \"extract\",\n",
    "            \"description\": \"Provide an overview of the service mentioned in the document\"\n",
    "        },\n",
    "        \"Capabilities\": {\n",
    "            \"type\": \"string\",\n",
    "            \"method\": \"extract\",\n",
    "            \"description\": \"the capabilities the service has\"\n",
    "        },\n",
    "        \"Service_Name\": {\n",
    "            \"type\": \"string\",\n",
    "            \"method\": \"extract\",\n",
    "            \"description\": \"the name of the service\"\n",
    "        },\n",
    "        \"Date_Published\": {\n",
    "            \"type\": \"date\",\n",
    "            \"method\": \"extract\",\n",
    "            \"description\": \"the date the document was published\"\n",
    "        },\n",
    "        \"Use_Cases\": {\n",
    "            \"type\": \"string\",\n",
    "            \"method\": \"extract\",\n",
    "            \"description\": \"summary of use cases for this technology\"\n",
    "        }\n",
    "    }\n",
    "}\n",
    "\n",
    "result = create_or_update_document_analyzer(\n",
    "    PDF_ANALYZER_NAME,\n",
    "    description,\n",
    "    scenario,\n",
    "    field_schema,\n",
    "    config,\n",
    "    AZURE_AI_ENDPOINT,\n",
    "    AZURE_AI_KEY,\n",
    "    API_VERSION\n",
    ")\n",
    "\n",
    "print(result)"
   ]
  },
  {
   "cell_type": "markdown",
   "metadata": {},
   "source": [
    "## Get PDF Analyzer"
   ]
  },
  {
   "cell_type": "code",
   "execution_count": null,
   "metadata": {},
   "outputs": [],
   "source": [
    "result = list_analyzers(AZURE_AI_ENDPOINT, AZURE_AI_KEY, API_VERSION)\n",
    "print(result)"
   ]
  },
  {
   "cell_type": "markdown",
   "metadata": {},
   "source": [
    "## Analyze PDF"
   ]
  },
  {
   "cell_type": "code",
   "execution_count": null,
   "metadata": {},
   "outputs": [],
   "source": [
    "result = analyze_content(\n",
    "    PDF_ANALYZER_NAME,\n",
    "    PDF_SAS_URL,\n",
    "    AZURE_AI_ENDPOINT,\n",
    "    AZURE_AI_KEY,\n",
    "    API_VERSION\n",
    ")\n",
    "\n",
    "print(result)"
   ]
  },
  {
   "cell_type": "code",
   "execution_count": null,
   "metadata": {},
   "outputs": [],
   "source": [
    "operation_location = result[\"headers\"].get(\"Operation-Location\")\n",
    "print(operation_location)"
   ]
  },
  {
   "cell_type": "code",
   "execution_count": null,
   "metadata": {},
   "outputs": [],
   "source": [
    "result = get_result_details(operation_location, AZURE_AI_KEY)\n",
    "print(result)"
   ]
  },
  {
   "cell_type": "markdown",
   "metadata": {},
   "source": [
    "## Write Data to JSON File"
   ]
  },
  {
   "cell_type": "code",
   "execution_count": null,
   "metadata": {},
   "outputs": [],
   "source": [
    "filename = 'pdf_data.json'\n",
    "\n",
    "with open(filename, 'w') as json_file:\n",
    "    json.dump(result, json_file, indent=4)\n",
    "\n",
    "print(f\"Data has been written to {filename}\")"
   ]
  },
  {
   "cell_type": "code",
   "execution_count": 53,
   "metadata": {},
   "outputs": [],
   "source": [
    "loader = JSONLoader(\n",
    "    file_path='./pdf_data.json',\n",
    "    jq_schema='.json_response.result.contents',\n",
    "    text_content=False)\n",
    "\n",
    "pdf_data = loader.load()"
   ]
  },
  {
   "cell_type": "code",
   "execution_count": null,
   "metadata": {},
   "outputs": [],
   "source": [
    "print(pdf_data)"
   ]
  },
  {
   "cell_type": "code",
   "execution_count": 55,
   "metadata": {},
   "outputs": [],
   "source": [
    "loader = JSONLoader(\n",
    "    file_path='./video_data.json',\n",
    "    jq_schema='.json_response.result.contents',\n",
    "    text_content=False)\n",
    "\n",
    "video_data = loader.load()"
   ]
  },
  {
   "cell_type": "code",
   "execution_count": null,
   "metadata": {},
   "outputs": [],
   "source": [
    "print(video_data)"
   ]
  },
  {
   "cell_type": "markdown",
   "metadata": {},
   "source": [
    "## Initialize OpenAI Connections"
   ]
  },
  {
   "cell_type": "code",
   "execution_count": 57,
   "metadata": {},
   "outputs": [],
   "source": [
    "embeddings = AzureOpenAIEmbeddings(azure_endpoint=os.environ.get(\"AZURE_OPENAI_ENDPOINT\"), api_key=os.environ.get(\"AZURE_OPENAI_API_KEY\"))\n",
    "chat = AzureChatOpenAI(azure_endpoint=os.environ.get(\"AZURE_OPENAI_ENDPOINT\"), api_key=os.environ.get(\"AZURE_OPENAI_API_KEY\"), azure_deployment=os.environ.get(\"AZURE_OPENAI_CHAT_MODEL_NAME\"), api_version=\"2024-08-01-preview\")"
   ]
  },
  {
   "cell_type": "markdown",
   "metadata": {},
   "source": [
    "## Initialize ChromaDB"
   ]
  },
  {
   "cell_type": "code",
   "execution_count": 58,
   "metadata": {},
   "outputs": [],
   "source": [
    "vector_db = Chroma.from_documents(pdf_data, embeddings)\n",
    "\n",
    "vector_db = Chroma.from_documents(video_data, embeddings)"
   ]
  },
  {
   "cell_type": "markdown",
   "metadata": {},
   "source": [
    "## Question #1"
   ]
  },
  {
   "cell_type": "code",
   "execution_count": null,
   "metadata": {},
   "outputs": [],
   "source": [
    "query = \"What part in the video shows a sleepy animal?\"\n",
    "docs = vector_db.similarity_search(query)\n",
    "print(docs[0].page_content)"
   ]
  },
  {
   "cell_type": "code",
   "execution_count": null,
   "metadata": {},
   "outputs": [],
   "source": [
    "chat.invoke(f\"answer the users question: {query} based on the following information: {docs}\")"
   ]
  },
  {
   "cell_type": "markdown",
   "metadata": {},
   "source": [
    "## Question #2"
   ]
  },
  {
   "cell_type": "code",
   "execution_count": null,
   "metadata": {},
   "outputs": [],
   "source": [
    "query = \"What date was content understanding published?\"\n",
    "docs = vector_db.similarity_search(query)\n",
    "print(docs[0].page_content)"
   ]
  },
  {
   "cell_type": "code",
   "execution_count": null,
   "metadata": {},
   "outputs": [],
   "source": [
    "chat.invoke(f\"answer the users question: {query} based on the following information: {docs}\")"
   ]
  }
 ],
 "metadata": {
  "kernelspec": {
   "display_name": ".venv",
   "language": "python",
   "name": "python3"
  },
  "language_info": {
   "codemirror_mode": {
    "name": "ipython",
    "version": 3
   },
   "file_extension": ".py",
   "mimetype": "text/x-python",
   "name": "python",
   "nbconvert_exporter": "python",
   "pygments_lexer": "ipython3",
   "version": "3.12.8"
  }
 },
 "nbformat": 4,
 "nbformat_minor": 2
}
