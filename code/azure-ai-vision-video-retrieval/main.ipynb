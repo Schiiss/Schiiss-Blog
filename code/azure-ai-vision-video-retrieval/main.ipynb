{
 "cells": [
  {
   "cell_type": "markdown",
   "metadata": {},
   "source": [
    "## Import Libraries"
   ]
  },
  {
   "cell_type": "code",
   "execution_count": null,
   "metadata": {},
   "outputs": [],
   "source": [
    "import os\n",
    "from dotenv import load_dotenv\n",
    "from urllib.parse import quote\n",
    "from azure.storage.blob import BlobClient\n",
    "from azure.core.credentials import AzureSasCredential\n",
    "from moviepy import VideoFileClip\n",
    "import pandas as pd\n",
    "import matplotlib.pyplot as plt\n",
    "import numpy as np\n",
    "import cv2\n",
    "import requests\n",
    "load_dotenv()"
   ]
  },
  {
   "cell_type": "markdown",
   "metadata": {},
   "source": [
    "## Bring in Environment Variables"
   ]
  },
  {
   "cell_type": "code",
   "execution_count": 18,
   "metadata": {},
   "outputs": [],
   "source": [
    "VISION_API_KEY = os.environ.get(\"VISION_API_KEY\")\n",
    "VISION_ENDPOINT = os.environ.get(\"VISION_ENDPOINT\")\n",
    "SOURCE_DIRECTORY = os.environ.get(\"SOURCE_DIRECTORY\")\n",
    "INDEX_NAME = \"blog\"\n",
    "AZURE_STORAGE_ACCOUNT_NAME = os.environ.get(\"AZURE_STORAGE_ACCOUNT_NAME\")\n",
    "AZURE_STORAGE_CONTAINER_NAME = \"blog\"\n",
    "AZURE_STORAGE_SAS = os.environ.get(\"AZURE_STORAGE_SAS\")"
   ]
  },
  {
   "cell_type": "markdown",
   "metadata": {},
   "source": [
    "## Convenience Functions"
   ]
  },
  {
   "cell_type": "code",
   "execution_count": 19,
   "metadata": {},
   "outputs": [],
   "source": [
    "def upload_to_blob(blob_name: str, source_directory: str = SOURCE_DIRECTORY, extension: str = \"\") -> str:\n",
    "    blob_service_url = f\"https://{AZURE_STORAGE_ACCOUNT_NAME}.blob.core.windows.net/\"\n",
    "    complete_blob_name = f\"{blob_name}{extension}\"\n",
    "    encoded_name = quote(complete_blob_name) \n",
    "    blob_client = BlobClient(\n",
    "        account_url=blob_service_url,\n",
    "        container_name=AZURE_STORAGE_CONTAINER_NAME,\n",
    "        blob_name=complete_blob_name,\n",
    "        credential=AzureSasCredential(AZURE_STORAGE_SAS),\n",
    "        max_block_size=4 * 1024 * 1024,\n",
    "        max_single_put_size=16 * 1024 * 1024,\n",
    "    )\n",
    "    file_path = os.path.join(source_directory, complete_blob_name)\n",
    "    with open(file_path, \"rb\") as file_data:\n",
    "        blob_client.upload_blob(data=file_data, overwrite=True, max_concurrency=2)\n",
    "    return f\"{blob_service_url}{AZURE_STORAGE_CONTAINER_NAME}/{encoded_name}\"\n",
    "\n",
    "\n",
    "def upload_videos_to_blob(file_name, source_directory=SOURCE_DIRECTORY):\n",
    "    video_file_path = os.path.join(source_directory, file_name)\n",
    "    with VideoFileClip(video_file_path) as video_clip:\n",
    "        duration_minutes = round(video_clip.duration / 60, 1) \n",
    "        frame_rate = round(video_clip.fps)\n",
    "        video_resolution = video_clip.size\n",
    "    file_size_in_bytes = os.path.getsize(video_file_path)\n",
    "    file_size_in_mb = round(file_size_in_bytes / (1024 * 1024), 1)\n",
    "    blob_storage_url = upload_to_blob(file_name, source_directory)\n",
    "    video_metadata = {\n",
    "        \"duration_minutes\": duration_minutes,\n",
    "        \"frame_rate\": frame_rate,\n",
    "        \"resolution\": video_resolution,\n",
    "        \"blob_url\": blob_storage_url,\n",
    "        \"file_size_mb\": file_size_in_mb,\n",
    "    }\n",
    "    return video_metadata\n",
    "\n",
    "def create_index(endpoint_url, subscription_key, index_name):\n",
    "    url = f\"{endpoint_url}/computervision/retrieval/indexes/{index_name}?api-version=2023-05-01-preview\"\n",
    "    headers = {\n",
    "        \"Ocp-Apim-Subscription-Key\": subscription_key,\n",
    "        \"Content-Type\": \"application/json\"\n",
    "    }\n",
    "    payload = {\n",
    "        \"metadataSchema\": {\n",
    "            \"fields\": [\n",
    "                {\"name\": \"filename\", \"searchable\": False, \"filterable\": True, \"type\": \"string\"},\n",
    "                {\n",
    "                    \"name\": \"duration_mins\",\n",
    "                    \"searchable\": False,\n",
    "                    \"filterable\": True,\n",
    "                    \"type\": \"string\",\n",
    "                },\n",
    "                {\"name\": \"size_mb\", \"searchable\": False, \"filterable\": True, \"type\": \"string\"},\n",
    "                {\n",
    "                    \"name\": \"resolution\",\n",
    "                    \"searchable\": False,\n",
    "                    \"filterable\": True,\n",
    "                    \"type\": \"string\",\n",
    "                },\n",
    "                {\"name\": \"fps\", \"searchable\": False, \"filterable\": True, \"type\": \"string\"},\n",
    "            ]\n",
    "        },\n",
    "        \"features\": [\n",
    "            {\n",
    "                \"name\": \"vision\",\n",
    "                \"domain\": \"surveillance\"\n",
    "            },\n",
    "            {\n",
    "                \"name\": \"speech\"\n",
    "            }\n",
    "        ]\n",
    "    }\n",
    "\n",
    "    response = requests.put(url, headers=headers, json=payload)\n",
    "    return response.json(), response.status_code\n",
    "\n",
    "def delete_index(endpoint_url, subscription_key, index_name):\n",
    "    url = f\"{endpoint_url}/computervision/retrieval/indexes/{index_name}?api-version=2023-05-01-preview\"\n",
    "    headers = {\n",
    "        \"Ocp-Apim-Subscription-Key\": subscription_key,\n",
    "        \"Content-Type\": \"application/json\",\n",
    "    }\n",
    "    response = requests.delete(url, headers=headers)\n",
    "\n",
    "    return response\n",
    "\n",
    "def create_ingestion(endpoint_url, subscription_key, index_name, video_metadata_list):\n",
    "    ingestion_name = f\"{index_name}-ingestion\"\n",
    "    url = f\"{endpoint_url}/computervision/retrieval/indexes/{index_name}/ingestions/{ingestion_name}?api-version=2023-05-01-preview\"\n",
    "    headers = {\n",
    "        \"Ocp-Apim-Subscription-Key\": subscription_key,\n",
    "        \"Content-Type\": \"application/json\",\n",
    "    }\n",
    "    body = {\n",
    "        \"videos\": video_metadata_list,\n",
    "        \"includeSpeechTranscript\": True,\n",
    "        \"moderation\": False,\n",
    "    }\n",
    "    \n",
    "    response = requests.put(url, json=body, headers=headers)\n",
    "    return response.json()\n",
    "\n",
    "def list_indexes(endpoint_url, subscription_key):\n",
    "    \"\"\"\n",
    "    List indexes\n",
    "    \"\"\"\n",
    "    url = f\"{endpoint_url}/computervision/retrieval/indexes?api-version=2023-05-01-preview\"\n",
    "    headers = {\"Ocp-Apim-Subscription-Key\": subscription_key}\n",
    "    response = requests.get(url, headers=headers)\n",
    "\n",
    "    return response.json()\n",
    "\n",
    "\n",
    "def check_ingestion(endpoint_url, subscription_key, index_name, top=20):\n",
    "    url = f\"{endpoint_url}/computervision/retrieval/indexes/{index_name}/ingestions?api-version=2023-05-01-preview&$top={top}\"\n",
    "    headers = {\n",
    "        \"Ocp-Apim-Subscription-Key\": subscription_key\n",
    "    }\n",
    "\n",
    "    response = requests.get(url, headers=headers)\n",
    "    return response.json(), response.status_code\n",
    "\n",
    "def search_video(endpoint_url, index_name, subscription_key, queryText=\"\", featureFilters=[\"vision\", \"speech\"]):\n",
    "    url = (\n",
    "        endpoint_url\n",
    "        + \"/computervision/retrieval/indexes/\"\n",
    "        + index_name\n",
    "        + \":queryByText?api-version=2023-05-01-preview\"\n",
    "    )\n",
    "\n",
    "    headers = {\n",
    "        \"Content-type\": \"application/json\",\n",
    "        \"Ocp-Apim-Subscription-Key\": subscription_key,\n",
    "    }\n",
    "\n",
    "    body = {\n",
    "        \"queryText\": queryText,\n",
    "        \"dedup\": True,\n",
    "        \"filters\": {\"featureFilters\": featureFilters},\n",
    "        #\"top\": 2\n",
    "    }\n",
    "\n",
    "    query_result = None\n",
    "\n",
    "    try:\n",
    "        r = requests.post(url, json=body, headers=headers)\n",
    "        query_result = r.json()\n",
    "    except Exception as error:\n",
    "        print(\"Video search operation failed \")\n",
    "        print(error)\n",
    "\n",
    "    return query_result\n",
    "\n",
    "def extract_frame(video_path, timestamp):\n",
    "    try:\n",
    "        h, m, s = timestamp.split(\":\")\n",
    "        s, ms = (s.split(\".\") + [\"0\"])[\n",
    "            :2\n",
    "        ] \n",
    "        frame_time = (int(h) * 3600 + int(m) * 60 + int(s)) * 1000 + int(\n",
    "            ms[:3]\n",
    "        )\n",
    "        cap = cv2.VideoCapture(video_path)\n",
    "        cap.set(cv2.CAP_PROP_POS_MSEC, frame_time)\n",
    "\n",
    "        success, frame = cap.read()\n",
    "\n",
    "        if success:\n",
    "            return cv2.cvtColor(\n",
    "                frame, cv2.COLOR_BGR2RGB\n",
    "            ) \n",
    "    except Exception as e:\n",
    "        print(f\"Error extracting frame: {e}\")\n",
    "\n",
    "    return None\n",
    "\n",
    "    \n",
    "def display_tiles(matches_df, nrows=2, ncols=3, figsize=(16, 9)):\n",
    "    \"\"\"\n",
    "    Display videos tiles\n",
    "    \"\"\"\n",
    "    fig, axes = plt.subplots(nrows=nrows, figsize=figsize, dpi=100)\n",
    "    axes = axes.flatten()\n",
    "\n",
    "    for i, (ax, (_, row)) in enumerate(zip(axes, matches_df.iterrows())):\n",
    "        row = row[\"value\"]\n",
    "        video_path = f\"{SOURCE_DIRECTORY}/{row['documentId']}\"\n",
    "        timestamp = row[\"best\"]\n",
    "        frame = extract_frame(video_path, timestamp)\n",
    "        if frame is not None:\n",
    "            ax.imshow(frame)\n",
    "        else:\n",
    "            ax.imshow(\n",
    "                np.zeros((100, 100, 3), dtype=np.uint8)\n",
    "            )\n",
    "        title = f\"Top {i+1}, (score: {row['relevance']:.3f}) - Video id: {row['documentId']}\"\n",
    "        start = row[\"start\"].split(\".\")[0] if \"start\" in row else None\n",
    "        end = row[\"end\"].split(\".\")[0] if \"end\" in row else None\n",
    "        subtitle = f\"{start} - {end}\" if start and end else \"Timestamp not available\"\n",
    "\n",
    "        ax.set_title(f\"{title}\\n{subtitle}\", fontsize=10, pad=10)\n",
    "        ax.axis(\"off\")\n",
    "\n",
    "    plt.tight_layout()\n",
    "    plt.show()\n",
    "    \n",
    "\n",
    "def gather_video_metadata(video):\n",
    "    return {\n",
    "        \"mode\": \"add\",\n",
    "        \"documentId\": video[\"id\"],\n",
    "        \"documentUrl\": video[\"blob_url\"] + \"?\" + AZURE_STORAGE_SAS,\n",
    "        \"metadata\": {\n",
    "            \"filename\": video[\"filename\"],\n",
    "            \"duration_mins\": str(video[\"duration_minutes\"]),\n",
    "            \"size_mb\": str(video[\"file_size_mb\"]),\n",
    "            \"resolution\": str(video[\"resolution\"]),\n",
    "            \"fps\": str(video[\"frame_rate\"]),\n",
    "        },\n",
    "    }\n",
    "\n",
    "def chat_with_your_own_videos(query):\n",
    "    search_results = search_video(VISION_ENDPOINT, INDEX_NAME, VISION_API_KEY, queryText=query, featureFilters=[\"speech\", \"vision\"])\n",
    "    df = pd.DataFrame.from_records(search_results).head(10)\n",
    "    display_tiles(df)\n",
    "\n",
    "    return df"
   ]
  },
  {
   "cell_type": "markdown",
   "metadata": {},
   "source": [
    "## Generate Metadata for Video"
   ]
  },
  {
   "cell_type": "code",
   "execution_count": null,
   "metadata": {},
   "outputs": [],
   "source": [
    "video_files = [\n",
    "    filename for filename in os.listdir(SOURCE_DIRECTORY) if filename.lower().endswith(\".mp4\")\n",
    "]\n",
    "video_df = pd.DataFrame({\"id\": video_files})\n",
    "metadata_df = video_df[\"id\"].apply(upload_videos_to_blob)\n",
    "metadata_df = pd.DataFrame(metadata_df.tolist())\n",
    "video_df = video_df.join(metadata_df)\n",
    "video_df[\"filename\"] = video_df[\"id\"]\n",
    "display(video_df)"
   ]
  },
  {
   "cell_type": "markdown",
   "metadata": {},
   "source": [
    "## Delete Index If Already Exists"
   ]
  },
  {
   "cell_type": "code",
   "execution_count": null,
   "metadata": {},
   "outputs": [],
   "source": [
    "delete_index(VISION_ENDPOINT, VISION_API_KEY, INDEX_NAME)"
   ]
  },
  {
   "cell_type": "markdown",
   "metadata": {},
   "source": [
    "## Create Index"
   ]
  },
  {
   "cell_type": "code",
   "execution_count": null,
   "metadata": {},
   "outputs": [],
   "source": [
    "create_index(VISION_ENDPOINT, VISION_API_KEY, INDEX_NAME)"
   ]
  },
  {
   "cell_type": "markdown",
   "metadata": {},
   "source": [
    "## List Indexes"
   ]
  },
  {
   "cell_type": "code",
   "execution_count": null,
   "metadata": {},
   "outputs": [],
   "source": [
    "list_indexes(VISION_ENDPOINT, VISION_API_KEY)"
   ]
  },
  {
   "cell_type": "markdown",
   "metadata": {},
   "source": [
    "## Gather Metadata and Create Video Ingestion Into Azure AI Vision"
   ]
  },
  {
   "cell_type": "code",
   "execution_count": null,
   "metadata": {},
   "outputs": [],
   "source": [
    "videos = [gather_video_metadata(video) for _, video in video_df.iterrows()]\n",
    "create_ingestion(VISION_ENDPOINT, VISION_API_KEY, INDEX_NAME, videos)"
   ]
  },
  {
   "cell_type": "markdown",
   "metadata": {},
   "source": [
    "## Check Ingestion Status"
   ]
  },
  {
   "cell_type": "code",
   "execution_count": null,
   "metadata": {},
   "outputs": [],
   "source": [
    "check_ingestion(VISION_ENDPOINT, VISION_API_KEY, INDEX_NAME)"
   ]
  },
  {
   "cell_type": "markdown",
   "metadata": {},
   "source": [
    "## Query #1"
   ]
  },
  {
   "cell_type": "code",
   "execution_count": null,
   "metadata": {},
   "outputs": [],
   "source": [
    "chat_with_your_own_videos(\"horses running\")"
   ]
  },
  {
   "cell_type": "markdown",
   "metadata": {},
   "source": [
    "## Query #2"
   ]
  },
  {
   "cell_type": "code",
   "execution_count": null,
   "metadata": {},
   "outputs": [],
   "source": [
    "chat_with_your_own_videos(\"birds flying\")"
   ]
  },
  {
   "cell_type": "markdown",
   "metadata": {},
   "source": [
    "## Query #3"
   ]
  },
  {
   "cell_type": "code",
   "execution_count": null,
   "metadata": {},
   "outputs": [],
   "source": [
    "chat_with_your_own_videos(\"very sleepy\")"
   ]
  }
 ],
 "metadata": {
  "kernelspec": {
   "display_name": ".venv",
   "language": "python",
   "name": "python3"
  },
  "language_info": {
   "codemirror_mode": {
    "name": "ipython",
    "version": 3
   },
   "file_extension": ".py",
   "mimetype": "text/x-python",
   "name": "python",
   "nbconvert_exporter": "python",
   "pygments_lexer": "ipython3",
   "version": "3.12.8"
  }
 },
 "nbformat": 4,
 "nbformat_minor": 2
}
